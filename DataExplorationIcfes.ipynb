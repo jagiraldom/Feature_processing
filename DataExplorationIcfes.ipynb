{
 "cells": [
  {
   "cell_type": "markdown",
   "id": "03532c24",
   "metadata": {},
   "source": [
    "# Data Exploration"
   ]
  },
  {
   "cell_type": "markdown",
   "id": "bf715247",
   "metadata": {},
   "source": [
    "Hey! During this first step, please, take a look at the data set and just explore it, find the types of each column and try to find interesting things. Don't worry about data cleaning. Just exploration for now.  \n",
    "You can answer the following questions:\n",
    "- How many columns there are\n",
    "- The type of each column\n",
    "- The different values that a column can take\n",
    "- Which do you think are the most important columns? If we are looking at the overall score.\n",
    "\n",
    "Go wild! (Remember, so far, only exploration).\n"
   ]
  },
  {
   "cell_type": "code",
   "execution_count": 1,
   "id": "be2bde8d",
   "metadata": {},
   "outputs": [],
   "source": [
    "import pandas as pd"
   ]
  },
  {
   "cell_type": "code",
   "execution_count": 2,
   "id": "46376140",
   "metadata": {},
   "outputs": [
    {
     "name": "stderr",
     "output_type": "stream",
     "text": [
      "C:\\Users\\jagiraldo\\AppData\\Local\\Temp\\ipykernel_14056\\2972959786.py:2: DtypeWarning: Columns (76,78) have mixed types. Specify dtype option on import or set low_memory=False.\n",
      "  df = pd.read_csv('Saber_11__2019-2.csv')\n"
     ]
    },
    {
     "data": {
      "text/html": [
       "<div>\n",
       "<style scoped>\n",
       "    .dataframe tbody tr th:only-of-type {\n",
       "        vertical-align: middle;\n",
       "    }\n",
       "\n",
       "    .dataframe tbody tr th {\n",
       "        vertical-align: top;\n",
       "    }\n",
       "\n",
       "    .dataframe thead th {\n",
       "        text-align: right;\n",
       "    }\n",
       "</style>\n",
       "<table border=\"1\" class=\"dataframe\">\n",
       "  <thead>\n",
       "    <tr style=\"text-align: right;\">\n",
       "      <th></th>\n",
       "      <th>ESTU_TIPODOCUMENTO</th>\n",
       "      <th>ESTU_NACIONALIDAD</th>\n",
       "      <th>ESTU_GENERO</th>\n",
       "      <th>ESTU_FECHANACIMIENTO</th>\n",
       "      <th>PERIODO</th>\n",
       "      <th>ESTU_CONSECUTIVO</th>\n",
       "      <th>ESTU_ESTUDIANTE</th>\n",
       "      <th>ESTU_TIENEETNIA</th>\n",
       "      <th>ESTU_PAIS_RESIDE</th>\n",
       "      <th>ESTU_ETNIA</th>\n",
       "      <th>...</th>\n",
       "      <th>PUNT_INGLES</th>\n",
       "      <th>PERCENTIL_INGLES</th>\n",
       "      <th>DESEMP_INGLES</th>\n",
       "      <th>PUNT_GLOBAL</th>\n",
       "      <th>PERCENTIL_GLOBAL</th>\n",
       "      <th>ESTU_INSE_INDIVIDUAL</th>\n",
       "      <th>ESTU_NSE_INDIVIDUAL</th>\n",
       "      <th>ESTU_NSE_ESTABLECIMIENTO</th>\n",
       "      <th>ESTU_ESTADOINVESTIGACION</th>\n",
       "      <th>ESTU_GENERACION-E</th>\n",
       "    </tr>\n",
       "  </thead>\n",
       "  <tbody>\n",
       "    <tr>\n",
       "      <th>0</th>\n",
       "      <td>TI</td>\n",
       "      <td>COLOMBIA</td>\n",
       "      <td>M</td>\n",
       "      <td>02/18/2002 12:00:00 AM</td>\n",
       "      <td>20194</td>\n",
       "      <td>SB11201940031558</td>\n",
       "      <td>ESTUDIANTE</td>\n",
       "      <td>No</td>\n",
       "      <td>COLOMBIA</td>\n",
       "      <td>-</td>\n",
       "      <td>...</td>\n",
       "      <td>54.0</td>\n",
       "      <td>67</td>\n",
       "      <td>A1</td>\n",
       "      <td>208</td>\n",
       "      <td>25</td>\n",
       "      <td>50.9421557404314</td>\n",
       "      <td>2.0</td>\n",
       "      <td>2.0</td>\n",
       "      <td>PUBLICAR</td>\n",
       "      <td>NO</td>\n",
       "    </tr>\n",
       "    <tr>\n",
       "      <th>1</th>\n",
       "      <td>TI</td>\n",
       "      <td>COLOMBIA</td>\n",
       "      <td>M</td>\n",
       "      <td>06/28/2003 12:00:00 AM</td>\n",
       "      <td>20194</td>\n",
       "      <td>SB11201940303339</td>\n",
       "      <td>ESTUDIANTE</td>\n",
       "      <td>No</td>\n",
       "      <td>COLOMBIA</td>\n",
       "      <td>-</td>\n",
       "      <td>...</td>\n",
       "      <td>63.0</td>\n",
       "      <td>88</td>\n",
       "      <td>A2</td>\n",
       "      <td>299</td>\n",
       "      <td>83</td>\n",
       "      <td>59.767864431576</td>\n",
       "      <td>3.0</td>\n",
       "      <td>4.0</td>\n",
       "      <td>PUBLICAR</td>\n",
       "      <td>NO</td>\n",
       "    </tr>\n",
       "    <tr>\n",
       "      <th>2</th>\n",
       "      <td>TI</td>\n",
       "      <td>COLOMBIA</td>\n",
       "      <td>M</td>\n",
       "      <td>06/02/2001 12:00:00 AM</td>\n",
       "      <td>20194</td>\n",
       "      <td>SB11201940255017</td>\n",
       "      <td>ESTUDIANTE</td>\n",
       "      <td>No</td>\n",
       "      <td>COLOMBIA</td>\n",
       "      <td>-</td>\n",
       "      <td>...</td>\n",
       "      <td>64.0</td>\n",
       "      <td>89</td>\n",
       "      <td>A2</td>\n",
       "      <td>299</td>\n",
       "      <td>84</td>\n",
       "      <td>50.7642383644749</td>\n",
       "      <td>2.0</td>\n",
       "      <td>3.0</td>\n",
       "      <td>PUBLICAR</td>\n",
       "      <td>GENERACION E - GRATUIDAD</td>\n",
       "    </tr>\n",
       "    <tr>\n",
       "      <th>3</th>\n",
       "      <td>TI</td>\n",
       "      <td>COLOMBIA</td>\n",
       "      <td>M</td>\n",
       "      <td>04/26/2002 12:00:00 AM</td>\n",
       "      <td>20194</td>\n",
       "      <td>SB11201940154799</td>\n",
       "      <td>ESTUDIANTE</td>\n",
       "      <td>Si</td>\n",
       "      <td>COLOMBIA</td>\n",
       "      <td>Ninguno</td>\n",
       "      <td>...</td>\n",
       "      <td>53.0</td>\n",
       "      <td>67</td>\n",
       "      <td>A1</td>\n",
       "      <td>309</td>\n",
       "      <td>88</td>\n",
       "      <td>45.7791353123516</td>\n",
       "      <td>2.0</td>\n",
       "      <td>3.0</td>\n",
       "      <td>PUBLICAR</td>\n",
       "      <td>GENERACION E - GRATUIDAD</td>\n",
       "    </tr>\n",
       "    <tr>\n",
       "      <th>4</th>\n",
       "      <td>TI</td>\n",
       "      <td>COLOMBIA</td>\n",
       "      <td>M</td>\n",
       "      <td>02/05/2002 12:00:00 AM</td>\n",
       "      <td>20194</td>\n",
       "      <td>SB11201940280831</td>\n",
       "      <td>ESTUDIANTE</td>\n",
       "      <td>No</td>\n",
       "      <td>COLOMBIA</td>\n",
       "      <td>-</td>\n",
       "      <td>...</td>\n",
       "      <td>52.0</td>\n",
       "      <td>63</td>\n",
       "      <td>A1</td>\n",
       "      <td>288</td>\n",
       "      <td>78</td>\n",
       "      <td>52.9109464277177</td>\n",
       "      <td>3.0</td>\n",
       "      <td>3.0</td>\n",
       "      <td>PUBLICAR</td>\n",
       "      <td>NO</td>\n",
       "    </tr>\n",
       "  </tbody>\n",
       "</table>\n",
       "<p>5 rows × 82 columns</p>\n",
       "</div>"
      ],
      "text/plain": [
       "  ESTU_TIPODOCUMENTO ESTU_NACIONALIDAD ESTU_GENERO    ESTU_FECHANACIMIENTO  \\\n",
       "0                 TI          COLOMBIA           M  02/18/2002 12:00:00 AM   \n",
       "1                 TI          COLOMBIA           M  06/28/2003 12:00:00 AM   \n",
       "2                 TI          COLOMBIA           M  06/02/2001 12:00:00 AM   \n",
       "3                 TI          COLOMBIA           M  04/26/2002 12:00:00 AM   \n",
       "4                 TI          COLOMBIA           M  02/05/2002 12:00:00 AM   \n",
       "\n",
       "   PERIODO  ESTU_CONSECUTIVO ESTU_ESTUDIANTE ESTU_TIENEETNIA ESTU_PAIS_RESIDE  \\\n",
       "0    20194  SB11201940031558      ESTUDIANTE              No         COLOMBIA   \n",
       "1    20194  SB11201940303339      ESTUDIANTE              No         COLOMBIA   \n",
       "2    20194  SB11201940255017      ESTUDIANTE              No         COLOMBIA   \n",
       "3    20194  SB11201940154799      ESTUDIANTE              Si         COLOMBIA   \n",
       "4    20194  SB11201940280831      ESTUDIANTE              No         COLOMBIA   \n",
       "\n",
       "  ESTU_ETNIA  ... PUNT_INGLES PERCENTIL_INGLES DESEMP_INGLES PUNT_GLOBAL  \\\n",
       "0          -  ...        54.0               67            A1         208   \n",
       "1          -  ...        63.0               88            A2         299   \n",
       "2          -  ...        64.0               89            A2         299   \n",
       "3    Ninguno  ...        53.0               67            A1         309   \n",
       "4          -  ...        52.0               63            A1         288   \n",
       "\n",
       "  PERCENTIL_GLOBAL ESTU_INSE_INDIVIDUAL ESTU_NSE_INDIVIDUAL  \\\n",
       "0               25     50.9421557404314                 2.0   \n",
       "1               83      59.767864431576                 3.0   \n",
       "2               84     50.7642383644749                 2.0   \n",
       "3               88     45.7791353123516                 2.0   \n",
       "4               78     52.9109464277177                 3.0   \n",
       "\n",
       "  ESTU_NSE_ESTABLECIMIENTO ESTU_ESTADOINVESTIGACION         ESTU_GENERACION-E  \n",
       "0                      2.0                 PUBLICAR                        NO  \n",
       "1                      4.0                 PUBLICAR                        NO  \n",
       "2                      3.0                 PUBLICAR  GENERACION E - GRATUIDAD  \n",
       "3                      3.0                 PUBLICAR  GENERACION E - GRATUIDAD  \n",
       "4                      3.0                 PUBLICAR                        NO  \n",
       "\n",
       "[5 rows x 82 columns]"
      ]
     },
     "execution_count": 2,
     "metadata": {},
     "output_type": "execute_result"
    }
   ],
   "source": [
    "# The first thing was to check the data docs at https://www.datos.gov.co/Educaci-n/Saber-11-2019-2/ynam-yc42 \n",
    "df = pd.read_csv('Saber_11__2019-2.csv')\n",
    "df.head()"
   ]
  },
  {
   "cell_type": "code",
   "execution_count": 3,
   "id": "6f3fea2c",
   "metadata": {},
   "outputs": [
    {
     "name": "stdout",
     "output_type": "stream",
     "text": [
      "This dataframe has 82 columns\n"
     ]
    }
   ],
   "source": [
    "df_columns = df.columns.values\n",
    "print(f\"This dataframe has {df_columns.size} columns\")"
   ]
  },
  {
   "cell_type": "code",
   "execution_count": 33,
   "id": "a6e3e8d3",
   "metadata": {},
   "outputs": [
    {
     "data": {
      "text/plain": [
       "count    546212.000000\n",
       "mean        246.186464\n",
       "std          51.386858\n",
       "min           0.000000\n",
       "25%         207.000000\n",
       "50%         243.000000\n",
       "75%         282.000000\n",
       "max         477.000000\n",
       "Name: PUNT_GLOBAL, dtype: float64"
      ]
     },
     "execution_count": 33,
     "metadata": {},
     "output_type": "execute_result"
    }
   ],
   "source": [
    "df[\"PUNT_GLOBAL\"].describe()"
   ]
  },
  {
   "cell_type": "code",
   "execution_count": 19,
   "id": "27206001",
   "metadata": {},
   "outputs": [
    {
     "name": "stdout",
     "output_type": "stream",
     "text": [
      "[dtype('O') dtype('int64') dtype('float64')]\n",
      "\n",
      "PERIODO                          int64\n",
      "COLE_CODIGO_ICFES                int64\n",
      "COLE_COD_DANE_ESTABLECIMIENTO    int64\n",
      "COLE_COD_DANE_SEDE               int64\n",
      "COLE_COD_MCPIO_UBICACION         int64\n",
      "dtype: object\n"
     ]
    }
   ],
   "source": [
    "types = pd.Series([df[column].dtype for column in df_columns], index=df_columns)\n",
    "\n",
    "print(types.unique(), end=\"\\n\\n\") # array with unique data types\n",
    "\n",
    "numerical = types[types != object]\n",
    "print(numerical.head()) # Check the numerical typed columns"
   ]
  },
  {
   "cell_type": "code",
   "execution_count": 21,
   "id": "ae094a69",
   "metadata": {},
   "outputs": [
    {
     "name": "stdout",
     "output_type": "stream",
     "text": [
      "Column: PERIODO, min: 20194, max: 20194\n",
      "Column: COLE_CODIGO_ICFES, min: 75, max: 728303\n",
      "Column: COLE_COD_DANE_ESTABLECIMIENTO, min: 105001000001, max: 854874000001\n",
      "Column: COLE_COD_DANE_SEDE, min: 105001000001, max: 854874000001\n",
      "Column: COLE_COD_MCPIO_UBICACION, min: 5001, max: 99773\n",
      "Column: COLE_COD_DEPTO_UBICACION, min: 5, max: 99\n",
      "Column: ESTU_COD_MCPIO_PRESENTACION, min: 5001, max: 99773\n",
      "Column: ESTU_COD_DEPTO_PRESENTACION, min: 5, max: 99\n",
      "Column: PUNT_LECTURA_CRITICA, min: 0, max: 100\n",
      "Column: PERCENTIL_LECTURA_CRITICA, min: 1, max: 100\n",
      "Column: DESEMP_LECTURA_CRITICA, min: 1, max: 4\n",
      "Column: PUNT_MATEMATICAS, min: 0, max: 100\n",
      "Column: PERCENTIL_MATEMATICAS, min: 1, max: 100\n",
      "Column: DESEMP_MATEMATICAS, min: 1, max: 4\n",
      "Column: PUNT_C_NATURALES, min: 0, max: 100\n",
      "Column: PERCENTIL_C_NATURALES, min: 1, max: 100\n",
      "Column: DESEMP_C_NATURALES, min: 1, max: 4\n",
      "Column: PUNT_SOCIALES_CIUDADANAS, min: 0, max: 100\n",
      "Column: PERCENTIL_SOCIALES_CIUDADANAS, min: 1, max: 100\n",
      "Column: DESEMP_SOCIALES_CIUDADANAS, min: 1, max: 4\n",
      "Column: PUNT_INGLES, min: nan, max: nan\n",
      "Column: PERCENTIL_INGLES, min: 1, max: 100\n",
      "Column: PUNT_GLOBAL, min: 0, max: 477\n",
      "Column: ESTU_NSE_ESTABLECIMIENTO, min: nan, max: nan\n"
     ]
    }
   ],
   "source": [
    "for index, c_type in numerical.items():\n",
    "    r = df[index].unique()\n",
    "    print(f\"Column: {index}, min: {r.min()}, max: {r.max()}\")"
   ]
  },
  {
   "cell_type": "code",
   "execution_count": 37,
   "id": "5f390f2a",
   "metadata": {},
   "outputs": [
    {
     "name": "stdout",
     "output_type": "stream",
     "text": [
      "dict_keys(['A-', 'A1', 'A2', 'B+', 'B1'])\n",
      "DESEMP_INGLES\n",
      "A-    211.698978\n",
      "A1    259.582928\n",
      "A2    292.979018\n",
      "B+    353.913536\n",
      "B1    326.265573\n",
      "Name: PUNT_GLOBAL, dtype: float64\n",
      "DESEMP_INGLES\n",
      "A-    43.720687\n",
      "A1    53.480949\n",
      "A2    59.860239\n",
      "B+    71.121978\n",
      "B1    66.125240\n",
      "Name: PUNT_MATEMATICAS, dtype: float64\n",
      "DESEMP_INGLES\n",
      "A-    41.836715\n",
      "A1    50.622894\n",
      "A2    56.970195\n",
      "B+    68.440240\n",
      "B1    63.348091\n",
      "Name: PUNT_C_NATURALES, dtype: float64\n",
      "DESEMP_INGLES\n",
      "A-    39.180786\n",
      "A1    48.636296\n",
      "A2    56.038452\n",
      "B+    69.030187\n",
      "B1    63.253838\n",
      "Name: PUNT_SOCIALES_CIUDADANAS, dtype: float64\n",
      "DESEMP_INGLES\n",
      "A-    45.985681\n",
      "A1    54.754024\n",
      "A2    60.499081\n",
      "B+    70.034558\n",
      "B1    65.976960\n",
      "Name: PUNT_LECTURA_CRITICA, dtype: float64\n"
     ]
    }
   ],
   "source": [
    "print(df.groupby([\"DESEMP_INGLES\"]).groups.keys())\n",
    "print(df.groupby([\"DESEMP_INGLES\"])[\"PUNT_GLOBAL\"].mean())\n",
    "print(df.groupby([\"DESEMP_INGLES\"])[\"PUNT_MATEMATICAS\"].mean())\n",
    "print(df.groupby([\"DESEMP_INGLES\"])[\"PUNT_C_NATURALES\"].mean())\n",
    "print(df.groupby([\"DESEMP_INGLES\"])[\"PUNT_SOCIALES_CIUDADANAS\"].mean())\n",
    "print(df.groupby([\"DESEMP_INGLES\"])[\"PUNT_LECTURA_CRITICA\"].mean())"
   ]
  },
  {
   "cell_type": "code",
   "execution_count": 44,
   "id": "f894af39",
   "metadata": {},
   "outputs": [
    {
     "name": "stderr",
     "output_type": "stream",
     "text": [
      "C:\\Users\\jagiraldo\\AppData\\Local\\Temp\\ipykernel_14056\\2358881374.py:1: FutureWarning: The default value of numeric_only in DataFrameGroupBy.mean is deprecated. In a future version, numeric_only will default to False. Either specify numeric_only or select only columns which should be valid for the function.\n",
      "  df.groupby([\"ESTU_DEPTO_RESIDE\", \"DESEMP_INGLES\"]).mean()[\"PUNT_GLOBAL\"]\n"
     ]
    },
    {
     "data": {
      "text/plain": [
       "ESTU_DEPTO_RESIDE  DESEMP_INGLES\n",
       "AMAZONAS           A-               194.197208\n",
       "                   A1               242.822222\n",
       "                   A2               278.571429\n",
       "                   B+               335.500000\n",
       "                   B1               323.000000\n",
       "                                       ...    \n",
       "VAUPES             B1               256.500000\n",
       "VICHADA            A-               209.243902\n",
       "                   A1               259.909091\n",
       "                   A2               297.076923\n",
       "                   B1               328.800000\n",
       "Name: PUNT_GLOBAL, Length: 165, dtype: float64"
      ]
     },
     "execution_count": 44,
     "metadata": {},
     "output_type": "execute_result"
    }
   ],
   "source": [
    "df.groupby([\"ESTU_DEPTO_RESIDE\", \"DESEMP_INGLES\"]).mean()[\"PUNT_GLOBAL\"]"
   ]
  },
  {
   "cell_type": "code",
   "execution_count": null,
   "id": "b374004e",
   "metadata": {},
   "outputs": [],
   "source": []
  }
 ],
 "metadata": {
  "kernelspec": {
   "display_name": "Python 3",
   "language": "python",
   "name": "python3"
  },
  "language_info": {
   "codemirror_mode": {
    "name": "ipython",
    "version": 3
   },
   "file_extension": ".py",
   "mimetype": "text/x-python",
   "name": "python",
   "nbconvert_exporter": "python",
   "pygments_lexer": "ipython3",
   "version": "3.11.1"
  },
  "vscode": {
   "interpreter": {
    "hash": "ed86cd87725ed3eb26236ff68aec3c2b48ba86ad759f4f31f53d096e39ba85b5"
   }
  }
 },
 "nbformat": 4,
 "nbformat_minor": 5
}
