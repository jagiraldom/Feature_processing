{
 "cells": [
  {
   "cell_type": "markdown",
   "id": "03532c24",
   "metadata": {},
   "source": [
    "# Data Exploration"
   ]
  },
  {
   "cell_type": "markdown",
   "id": "bf715247",
   "metadata": {},
   "source": [
    "Hey! During this first step, please, take a look at the data set and just explore it, find the types of each column and try to find interesting things. Don't worry about data cleaning. Just exploration for now.  \n",
    "You can answer the following questions:\n",
    "- How many columns there are\n",
    "- The type of each column\n",
    "- The different values that a column can take\n",
    "- Which do you think are the most important columns? If we are looking at the overall score.\n",
    "\n",
    "Go wild! (Remember, so far, only exploration).\n"
   ]
  },
  {
   "cell_type": "code",
   "execution_count": 157,
   "id": "be2bde8d",
   "metadata": {},
   "outputs": [],
   "source": [
    "import pandas as pd\n",
    "import seaborn as sns"
   ]
  },
  {
   "cell_type": "code",
   "execution_count": 143,
   "id": "46376140",
   "metadata": {},
   "outputs": [
    {
     "name": "stderr",
     "output_type": "stream",
     "text": [
      "C:\\Users\\jagiraldo\\AppData\\Local\\Temp\\ipykernel_2744\\2972959786.py:2: DtypeWarning: Columns (76,78) have mixed types. Specify dtype option on import or set low_memory=False.\n",
      "  df = pd.read_csv('Saber_11__2019-2.csv')\n"
     ]
    },
    {
     "data": {
      "text/html": [
       "<div>\n",
       "<style scoped>\n",
       "    .dataframe tbody tr th:only-of-type {\n",
       "        vertical-align: middle;\n",
       "    }\n",
       "\n",
       "    .dataframe tbody tr th {\n",
       "        vertical-align: top;\n",
       "    }\n",
       "\n",
       "    .dataframe thead th {\n",
       "        text-align: right;\n",
       "    }\n",
       "</style>\n",
       "<table border=\"1\" class=\"dataframe\">\n",
       "  <thead>\n",
       "    <tr style=\"text-align: right;\">\n",
       "      <th></th>\n",
       "      <th>ESTU_TIPODOCUMENTO</th>\n",
       "      <th>ESTU_NACIONALIDAD</th>\n",
       "      <th>ESTU_GENERO</th>\n",
       "      <th>ESTU_FECHANACIMIENTO</th>\n",
       "      <th>PERIODO</th>\n",
       "      <th>ESTU_CONSECUTIVO</th>\n",
       "      <th>ESTU_ESTUDIANTE</th>\n",
       "      <th>ESTU_TIENEETNIA</th>\n",
       "      <th>ESTU_PAIS_RESIDE</th>\n",
       "      <th>ESTU_ETNIA</th>\n",
       "      <th>...</th>\n",
       "      <th>PUNT_INGLES</th>\n",
       "      <th>PERCENTIL_INGLES</th>\n",
       "      <th>DESEMP_INGLES</th>\n",
       "      <th>PUNT_GLOBAL</th>\n",
       "      <th>PERCENTIL_GLOBAL</th>\n",
       "      <th>ESTU_INSE_INDIVIDUAL</th>\n",
       "      <th>ESTU_NSE_INDIVIDUAL</th>\n",
       "      <th>ESTU_NSE_ESTABLECIMIENTO</th>\n",
       "      <th>ESTU_ESTADOINVESTIGACION</th>\n",
       "      <th>ESTU_GENERACION-E</th>\n",
       "    </tr>\n",
       "  </thead>\n",
       "  <tbody>\n",
       "    <tr>\n",
       "      <th>0</th>\n",
       "      <td>TI</td>\n",
       "      <td>COLOMBIA</td>\n",
       "      <td>M</td>\n",
       "      <td>02/18/2002 12:00:00 AM</td>\n",
       "      <td>20194</td>\n",
       "      <td>SB11201940031558</td>\n",
       "      <td>ESTUDIANTE</td>\n",
       "      <td>No</td>\n",
       "      <td>COLOMBIA</td>\n",
       "      <td>-</td>\n",
       "      <td>...</td>\n",
       "      <td>54.0</td>\n",
       "      <td>67</td>\n",
       "      <td>A1</td>\n",
       "      <td>208</td>\n",
       "      <td>25</td>\n",
       "      <td>50.9421557404314</td>\n",
       "      <td>2.0</td>\n",
       "      <td>2.0</td>\n",
       "      <td>PUBLICAR</td>\n",
       "      <td>NO</td>\n",
       "    </tr>\n",
       "    <tr>\n",
       "      <th>1</th>\n",
       "      <td>TI</td>\n",
       "      <td>COLOMBIA</td>\n",
       "      <td>M</td>\n",
       "      <td>06/28/2003 12:00:00 AM</td>\n",
       "      <td>20194</td>\n",
       "      <td>SB11201940303339</td>\n",
       "      <td>ESTUDIANTE</td>\n",
       "      <td>No</td>\n",
       "      <td>COLOMBIA</td>\n",
       "      <td>-</td>\n",
       "      <td>...</td>\n",
       "      <td>63.0</td>\n",
       "      <td>88</td>\n",
       "      <td>A2</td>\n",
       "      <td>299</td>\n",
       "      <td>83</td>\n",
       "      <td>59.767864431576</td>\n",
       "      <td>3.0</td>\n",
       "      <td>4.0</td>\n",
       "      <td>PUBLICAR</td>\n",
       "      <td>NO</td>\n",
       "    </tr>\n",
       "    <tr>\n",
       "      <th>2</th>\n",
       "      <td>TI</td>\n",
       "      <td>COLOMBIA</td>\n",
       "      <td>M</td>\n",
       "      <td>06/02/2001 12:00:00 AM</td>\n",
       "      <td>20194</td>\n",
       "      <td>SB11201940255017</td>\n",
       "      <td>ESTUDIANTE</td>\n",
       "      <td>No</td>\n",
       "      <td>COLOMBIA</td>\n",
       "      <td>-</td>\n",
       "      <td>...</td>\n",
       "      <td>64.0</td>\n",
       "      <td>89</td>\n",
       "      <td>A2</td>\n",
       "      <td>299</td>\n",
       "      <td>84</td>\n",
       "      <td>50.7642383644749</td>\n",
       "      <td>2.0</td>\n",
       "      <td>3.0</td>\n",
       "      <td>PUBLICAR</td>\n",
       "      <td>GENERACION E - GRATUIDAD</td>\n",
       "    </tr>\n",
       "    <tr>\n",
       "      <th>3</th>\n",
       "      <td>TI</td>\n",
       "      <td>COLOMBIA</td>\n",
       "      <td>M</td>\n",
       "      <td>04/26/2002 12:00:00 AM</td>\n",
       "      <td>20194</td>\n",
       "      <td>SB11201940154799</td>\n",
       "      <td>ESTUDIANTE</td>\n",
       "      <td>Si</td>\n",
       "      <td>COLOMBIA</td>\n",
       "      <td>Ninguno</td>\n",
       "      <td>...</td>\n",
       "      <td>53.0</td>\n",
       "      <td>67</td>\n",
       "      <td>A1</td>\n",
       "      <td>309</td>\n",
       "      <td>88</td>\n",
       "      <td>45.7791353123516</td>\n",
       "      <td>2.0</td>\n",
       "      <td>3.0</td>\n",
       "      <td>PUBLICAR</td>\n",
       "      <td>GENERACION E - GRATUIDAD</td>\n",
       "    </tr>\n",
       "    <tr>\n",
       "      <th>4</th>\n",
       "      <td>TI</td>\n",
       "      <td>COLOMBIA</td>\n",
       "      <td>M</td>\n",
       "      <td>02/05/2002 12:00:00 AM</td>\n",
       "      <td>20194</td>\n",
       "      <td>SB11201940280831</td>\n",
       "      <td>ESTUDIANTE</td>\n",
       "      <td>No</td>\n",
       "      <td>COLOMBIA</td>\n",
       "      <td>-</td>\n",
       "      <td>...</td>\n",
       "      <td>52.0</td>\n",
       "      <td>63</td>\n",
       "      <td>A1</td>\n",
       "      <td>288</td>\n",
       "      <td>78</td>\n",
       "      <td>52.9109464277177</td>\n",
       "      <td>3.0</td>\n",
       "      <td>3.0</td>\n",
       "      <td>PUBLICAR</td>\n",
       "      <td>NO</td>\n",
       "    </tr>\n",
       "  </tbody>\n",
       "</table>\n",
       "<p>5 rows × 82 columns</p>\n",
       "</div>"
      ],
      "text/plain": [
       "  ESTU_TIPODOCUMENTO ESTU_NACIONALIDAD ESTU_GENERO    ESTU_FECHANACIMIENTO  \\\n",
       "0                 TI          COLOMBIA           M  02/18/2002 12:00:00 AM   \n",
       "1                 TI          COLOMBIA           M  06/28/2003 12:00:00 AM   \n",
       "2                 TI          COLOMBIA           M  06/02/2001 12:00:00 AM   \n",
       "3                 TI          COLOMBIA           M  04/26/2002 12:00:00 AM   \n",
       "4                 TI          COLOMBIA           M  02/05/2002 12:00:00 AM   \n",
       "\n",
       "   PERIODO  ESTU_CONSECUTIVO ESTU_ESTUDIANTE ESTU_TIENEETNIA ESTU_PAIS_RESIDE  \\\n",
       "0    20194  SB11201940031558      ESTUDIANTE              No         COLOMBIA   \n",
       "1    20194  SB11201940303339      ESTUDIANTE              No         COLOMBIA   \n",
       "2    20194  SB11201940255017      ESTUDIANTE              No         COLOMBIA   \n",
       "3    20194  SB11201940154799      ESTUDIANTE              Si         COLOMBIA   \n",
       "4    20194  SB11201940280831      ESTUDIANTE              No         COLOMBIA   \n",
       "\n",
       "  ESTU_ETNIA  ... PUNT_INGLES PERCENTIL_INGLES DESEMP_INGLES PUNT_GLOBAL  \\\n",
       "0          -  ...        54.0               67            A1         208   \n",
       "1          -  ...        63.0               88            A2         299   \n",
       "2          -  ...        64.0               89            A2         299   \n",
       "3    Ninguno  ...        53.0               67            A1         309   \n",
       "4          -  ...        52.0               63            A1         288   \n",
       "\n",
       "  PERCENTIL_GLOBAL ESTU_INSE_INDIVIDUAL ESTU_NSE_INDIVIDUAL  \\\n",
       "0               25     50.9421557404314                 2.0   \n",
       "1               83      59.767864431576                 3.0   \n",
       "2               84     50.7642383644749                 2.0   \n",
       "3               88     45.7791353123516                 2.0   \n",
       "4               78     52.9109464277177                 3.0   \n",
       "\n",
       "  ESTU_NSE_ESTABLECIMIENTO ESTU_ESTADOINVESTIGACION         ESTU_GENERACION-E  \n",
       "0                      2.0                 PUBLICAR                        NO  \n",
       "1                      4.0                 PUBLICAR                        NO  \n",
       "2                      3.0                 PUBLICAR  GENERACION E - GRATUIDAD  \n",
       "3                      3.0                 PUBLICAR  GENERACION E - GRATUIDAD  \n",
       "4                      3.0                 PUBLICAR                        NO  \n",
       "\n",
       "[5 rows x 82 columns]"
      ]
     },
     "execution_count": 143,
     "metadata": {},
     "output_type": "execute_result"
    }
   ],
   "source": [
    "# The first thing was to check the data docs at https://www.datos.gov.co/Educaci-n/Saber-11-2019-2/ynam-yc42 \n",
    "df = pd.read_csv('Saber_11__2019-2.csv')\n",
    "df.head()"
   ]
  },
  {
   "attachments": {},
   "cell_type": "markdown",
   "id": "5dc5b096",
   "metadata": {},
   "source": [
    "## Content exploration"
   ]
  },
  {
   "cell_type": "code",
   "execution_count": 144,
   "id": "6f3fea2c",
   "metadata": {},
   "outputs": [
    {
     "name": "stdout",
     "output_type": "stream",
     "text": [
      "This dataframe has 82 columns\n"
     ]
    }
   ],
   "source": [
    "print(f\"This dataframe has {df.columns.size} columns\")"
   ]
  },
  {
   "cell_type": "code",
   "execution_count": 145,
   "id": "27206001",
   "metadata": {},
   "outputs": [
    {
     "name": "stdout",
     "output_type": "stream",
     "text": [
      "Index(['ESTU_TIPODOCUMENTO', 'ESTU_NACIONALIDAD', 'ESTU_GENERO',\n",
      "       'ESTU_FECHANACIMIENTO', 'ESTU_CONSECUTIVO', 'ESTU_ESTUDIANTE',\n",
      "       'ESTU_TIENEETNIA', 'ESTU_PAIS_RESIDE', 'ESTU_ETNIA',\n",
      "       'ESTU_DEPTO_RESIDE', 'ESTU_COD_RESIDE_DEPTO', 'ESTU_MCPIO_RESIDE',\n",
      "       'ESTU_COD_RESIDE_MCPIO', 'FAMI_ESTRATOVIVIENDA', 'FAMI_PERSONASHOGAR',\n",
      "       'FAMI_CUARTOSHOGAR', 'FAMI_EDUCACIONPADRE', 'FAMI_EDUCACIONMADRE',\n",
      "       'FAMI_TRABAJOLABORPADRE', 'FAMI_TRABAJOLABORMADRE',\n",
      "       'FAMI_TIENEINTERNET', 'FAMI_TIENESERVICIOTV', 'FAMI_TIENECOMPUTADOR',\n",
      "       'FAMI_TIENELAVADORA', 'FAMI_TIENEHORNOMICROOGAS', 'FAMI_TIENEAUTOMOVIL',\n",
      "       'FAMI_TIENEMOTOCICLETA', 'FAMI_TIENECONSOLAVIDEOJUEGOS',\n",
      "       'FAMI_NUMLIBROS', 'FAMI_COMELECHEDERIVADOS',\n",
      "       'FAMI_COMECARNEPESCADOHUEVO', 'FAMI_COMECEREALFRUTOSLEGUMBRE',\n",
      "       'FAMI_SITUACIONECONOMICA', 'ESTU_DEDICACIONLECTURADIARIA',\n",
      "       'ESTU_DEDICACIONINTERNET', 'ESTU_HORASSEMANATRABAJA',\n",
      "       'ESTU_TIPOREMUNERACION', 'COLE_NOMBRE_ESTABLECIMIENTO', 'COLE_GENERO',\n",
      "       'COLE_NATURALEZA', 'COLE_CALENDARIO', 'COLE_BILINGUE', 'COLE_CARACTER',\n",
      "       'COLE_NOMBRE_SEDE', 'COLE_SEDE_PRINCIPAL', 'COLE_AREA_UBICACION',\n",
      "       'COLE_JORNADA', 'COLE_MCPIO_UBICACION', 'COLE_DEPTO_UBICACION',\n",
      "       'ESTU_PRIVADO_LIBERTAD', 'ESTU_MCPIO_PRESENTACION',\n",
      "       'ESTU_DEPTO_PRESENTACION', 'DESEMP_INGLES', 'PERCENTIL_GLOBAL',\n",
      "       'ESTU_INSE_INDIVIDUAL', 'ESTU_NSE_INDIVIDUAL',\n",
      "       'ESTU_ESTADOINVESTIGACION', 'ESTU_GENERACION-E'],\n",
      "      dtype='object')\n"
     ]
    }
   ],
   "source": [
    "t = df.dtypes # Indentify columns with mixed types or strings\n",
    "obj = t[t==\"object\"]\n",
    "print(obj.index)"
   ]
  },
  {
   "cell_type": "code",
   "execution_count": 146,
   "id": "5afe88d9",
   "metadata": {},
   "outputs": [
    {
     "name": "stdout",
     "output_type": "stream",
     "text": [
      "Index(['PERIODO', 'COLE_CODIGO_ICFES', 'COLE_COD_DANE_ESTABLECIMIENTO',\n",
      "       'COLE_COD_DANE_SEDE', 'COLE_COD_MCPIO_UBICACION',\n",
      "       'COLE_COD_DEPTO_UBICACION', 'ESTU_COD_MCPIO_PRESENTACION',\n",
      "       'ESTU_COD_DEPTO_PRESENTACION', 'PUNT_LECTURA_CRITICA',\n",
      "       'PERCENTIL_LECTURA_CRITICA', 'DESEMP_LECTURA_CRITICA',\n",
      "       'PUNT_MATEMATICAS', 'PERCENTIL_MATEMATICAS', 'DESEMP_MATEMATICAS',\n",
      "       'PUNT_C_NATURALES', 'PERCENTIL_C_NATURALES', 'DESEMP_C_NATURALES',\n",
      "       'PUNT_SOCIALES_CIUDADANAS', 'PERCENTIL_SOCIALES_CIUDADANAS',\n",
      "       'DESEMP_SOCIALES_CIUDADANAS', 'PUNT_INGLES', 'PERCENTIL_INGLES',\n",
      "       'PUNT_GLOBAL', 'ESTU_NSE_ESTABLECIMIENTO'],\n",
      "      dtype='object')\n"
     ]
    }
   ],
   "source": [
    "t = df.dtypes # Identify columns with numerical data types\n",
    "num = t[t!=\"object\"]\n",
    "print(num.index)"
   ]
  },
  {
   "attachments": {},
   "cell_type": "markdown",
   "id": "8a168cb9",
   "metadata": {},
   "source": [
    "## Data cleaning"
   ]
  },
  {
   "cell_type": "code",
   "execution_count": 147,
   "id": "5f2ce881",
   "metadata": {},
   "outputs": [
    {
     "name": "stdout",
     "output_type": "stream",
     "text": [
      "Index(['ESTU_DEPTO_RESIDE', 'ESTU_MCPIO_RESIDE', 'FAMI_ESTRATOVIVIENDA',\n",
      "       'FAMI_PERSONASHOGAR', 'FAMI_CUARTOSHOGAR', 'FAMI_EDUCACIONPADRE',\n",
      "       'FAMI_EDUCACIONMADRE', 'FAMI_TRABAJOLABORPADRE',\n",
      "       'FAMI_TRABAJOLABORMADRE', 'FAMI_TIENEINTERNET', 'FAMI_TIENESERVICIOTV',\n",
      "       'FAMI_TIENECOMPUTADOR', 'FAMI_TIENELAVADORA',\n",
      "       'FAMI_TIENEHORNOMICROOGAS', 'FAMI_TIENEAUTOMOVIL',\n",
      "       'FAMI_TIENEMOTOCICLETA', 'FAMI_TIENECONSOLAVIDEOJUEGOS',\n",
      "       'FAMI_NUMLIBROS', 'FAMI_COMELECHEDERIVADOS',\n",
      "       'FAMI_COMECARNEPESCADOHUEVO', 'FAMI_COMECEREALFRUTOSLEGUMBRE',\n",
      "       'FAMI_SITUACIONECONOMICA', 'ESTU_DEDICACIONLECTURADIARIA',\n",
      "       'ESTU_DEDICACIONINTERNET', 'ESTU_HORASSEMANATRABAJA',\n",
      "       'ESTU_TIPOREMUNERACION', 'COLE_CARACTER', 'PUNT_INGLES',\n",
      "       'ESTU_INSE_INDIVIDUAL', 'ESTU_NSE_INDIVIDUAL',\n",
      "       'ESTU_NSE_ESTABLECIMIENTO'],\n",
      "      dtype='object')\n"
     ]
    }
   ],
   "source": [
    "is_na = df.isna().sum(axis=0) # Check which attributes have missing values\n",
    "is_na = is_na[is_na != 0]\n",
    "print(is_na.index)"
   ]
  },
  {
   "cell_type": "code",
   "execution_count": 148,
   "id": "789aa554",
   "metadata": {},
   "outputs": [
    {
     "name": "stdout",
     "output_type": "stream",
     "text": [
      "ESTU_DEDICACIONINTERNET          30298\n",
      "FAMI_COMECEREALFRUTOSLEGUMBRE    22332\n",
      "FAMI_COMELECHEDERIVADOS          22305\n",
      "FAMI_TIENESERVICIOTV             22280\n",
      "FAMI_EDUCACIONMADRE              20959\n",
      "dtype: int64\n"
     ]
    }
   ],
   "source": [
    "is_na = is_na.sort_values(ascending=False)\n",
    "print(is_na[is_na>0].head())"
   ]
  },
  {
   "cell_type": "code",
   "execution_count": 149,
   "id": "4d4d69f5",
   "metadata": {},
   "outputs": [
    {
     "name": "stdout",
     "output_type": "stream",
     "text": [
      "1149\n"
     ]
    }
   ],
   "source": [
    "df = df.drop(is_na[is_na>1000].index, axis=1) # Drop columns with missing data\n",
    "a = df.isna().sum(axis=1).sort_values(ascending=False) # Check which rows have missing features\n",
    "print(a[a>0].size)"
   ]
  },
  {
   "cell_type": "code",
   "execution_count": 150,
   "id": "381c4b37",
   "metadata": {},
   "outputs": [],
   "source": [
    "df = df.drop(a[a>0].index) # Drop rows\n",
    "df = df.drop([\"ESTU_TIPODOCUMENTO\", \"ESTU_NACIONALIDAD\", \"PERIODO\", \"ESTU_CONSECUTIVO\", \"ESTU_ESTUDIANTE\", \"ESTU_COD_RESIDE_DEPTO\", \"ESTU_COD_RESIDE_MCPIO\", \"COLE_CODIGO_ICFES\", \"COLE_COD_DANE_ESTABLECIMIENTO\", \"COLE_COD_DANE_SEDE\", \"COLE_COD_MCPIO_UBICACION\", \"COLE_COD_DEPTO_UBICACION\", \"ESTU_COD_MCPIO_PRESENTACION\", \"ESTU_COD_DEPTO_PRESENTACION\", \"ESTU_ESTADOINVESTIGACION\"], axis=1)"
   ]
  },
  {
   "cell_type": "code",
   "execution_count": 151,
   "id": "9c6d1921",
   "metadata": {},
   "outputs": [],
   "source": [
    "df[\"ESTU_FECHANACIMIENTO\"] = df[\"ESTU_FECHANACIMIENTO\"].map(lambda x: (x.split(\" \")[0]).split(\"/\")[2])"
   ]
  },
  {
   "attachments": {},
   "cell_type": "markdown",
   "id": "dc654eb1",
   "metadata": {},
   "source": [
    "## Exploratory analysis"
   ]
  },
  {
   "cell_type": "code",
   "execution_count": 153,
   "id": "a6e3e8d3",
   "metadata": {},
   "outputs": [
    {
     "data": {
      "text/plain": [
       "count    545063.000000\n",
       "mean        246.237967\n",
       "std          51.369556\n",
       "min           0.000000\n",
       "25%         207.000000\n",
       "50%         243.000000\n",
       "75%         282.000000\n",
       "max         477.000000\n",
       "Name: PUNT_GLOBAL, dtype: float64"
      ]
     },
     "execution_count": 153,
     "metadata": {},
     "output_type": "execute_result"
    }
   ],
   "source": [
    "df[\"PUNT_GLOBAL\"].describe()"
   ]
  },
  {
   "cell_type": "code",
   "execution_count": 158,
   "id": "1b87f6f4",
   "metadata": {},
   "outputs": [
    {
     "data": {
      "text/plain": [
       "<seaborn.axisgrid.FacetGrid at 0x23cd5f15a90>"
      ]
     },
     "execution_count": 158,
     "metadata": {},
     "output_type": "execute_result"
    },
    {
     "data": {
      "image/png": "[encoded data removed]",
      "text/plain": [
       "<Figure size 500x500 with 1 Axes>"
      ]
     },
     "metadata": {},
     "output_type": "display_data"
    }
   ],
   "source": [
    "sns.displot(df, x=\"PUNT_GLOBAL\")"
   ]
  },
  {
   "cell_type": "code",
   "execution_count": 174,
   "id": "49a33561",
   "metadata": {},
   "outputs": [
    {
     "name": "stdout",
     "output_type": "stream",
     "text": [
      "ESTU_DEPTO_RESIDE\n",
      "BOGOTÁ             266.484754\n",
      "SANTANDER          264.133357\n",
      "BOYACA             261.586032\n",
      "NORTE SANTANDER    255.336570\n",
      "CUNDINAMARCA       253.181715\n",
      "QUINDIO            251.896315\n",
      "RISARALDA          250.416082\n",
      "HUILA              250.055421\n",
      "META               247.935406\n",
      "CASANARE           246.737062\n",
      "CALDAS             246.203492\n",
      "NARIÑO             244.371606\n",
      "VALLE              242.641871\n",
      "ANTIOQUIA          241.991230\n",
      "ATLANTICO          241.618542\n",
      "ARAUCA             241.151551\n",
      "TOLIMA             240.871202\n",
      "CESAR              238.476025\n",
      "PUTUMAYO           236.593540\n",
      "SUCRE              235.932649\n",
      "CORDOBA            235.625518\n",
      "EXTRANJERO         235.164179\n",
      "CAQUETA            233.481649\n",
      "SAN ANDRES         230.227564\n",
      "CAUCA              228.244633\n",
      "BOLIVAR            227.604614\n",
      "VICHADA            225.134538\n",
      "GUAVIARE           224.062992\n",
      "GUAINIA            222.820225\n",
      "MAGDALENA          221.360776\n",
      "LA GUAJIRA         218.177350\n",
      "AMAZONAS           213.128797\n",
      "VAUPES             209.480000\n",
      "CHOCO              200.934359\n",
      "Name: PUNT_GLOBAL, dtype: float64\n"
     ]
    }
   ],
   "source": [
    "g = df.groupby(\"ESTU_DEPTO_RESIDE\")[\"PUNT_GLOBAL\"].mean().sort_values(ascending=False)\n",
    "print(g)"
   ]
  },
  {
   "cell_type": "code",
   "execution_count": 176,
   "id": "75c9666d",
   "metadata": {},
   "outputs": [
    {
     "name": "stdout",
     "output_type": "stream",
     "text": [
      "ESTU_DEPTO_RESIDE  ESTU_MCPIO_RESIDE      \n",
      "SANTANDER          CALIFORNIA                 288.875000\n",
      "                   PALMAR                     288.300000\n",
      "                   SAN JOSÉ DE MIRANDA        287.083333\n",
      "BOYACA             PAIPA                      284.995316\n",
      "SANTANDER          JORDÁN                     284.750000\n",
      "                                                 ...    \n",
      "GUAINIA            SAN FELIPE                 166.066667\n",
      "CHOCO              EL LITORAL DEL SAN JUAN    163.179856\n",
      "                   BELÉN DE BAJIRÁ            161.000000\n",
      "GUAINIA            MORICHAL                   160.250000\n",
      "CHOCO              ALTO BAUDÓ                 158.686957\n",
      "Name: PUNT_GLOBAL, Length: 1114, dtype: float64\n"
     ]
    }
   ],
   "source": [
    "g = df.groupby([\"ESTU_DEPTO_RESIDE\",\"ESTU_MCPIO_RESIDE\"])[\"PUNT_GLOBAL\"].mean().sort_values(ascending=False)\n",
    "print(g)"
   ]
  },
  {
   "cell_type": "code",
   "execution_count": null,
   "id": "6378da6d",
   "metadata": {},
   "outputs": [],
   "source": []
  }
 ],
 "metadata": {
  "kernelspec": {
   "display_name": "Python 3",
   "language": "python",
   "name": "python3"
  },
  "language_info": {
   "codemirror_mode": {
    "name": "ipython",
    "version": 3
   },
   "file_extension": ".py",
   "mimetype": "text/x-python",
   "name": "python",
   "nbconvert_exporter": "python",
   "pygments_lexer": "ipython3",
   "version": "3.11.1"
  },
  "vscode": {
   "interpreter": {
    "hash": "ed86cd87725ed3eb26236ff68aec3c2b48ba86ad759f4f31f53d096e39ba85b5"
   }
  }
 },
 "nbformat": 4,
 "nbformat_minor": 5
}
